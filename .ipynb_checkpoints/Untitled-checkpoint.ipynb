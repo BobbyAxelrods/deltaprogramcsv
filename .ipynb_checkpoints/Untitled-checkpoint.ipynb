{
 "cells": [
  {
   "cell_type": "code",
   "execution_count": 4,
   "id": "9fb1dc1f-bcde-4938-b3b4-19be1bba71d2",
   "metadata": {},
   "outputs": [],
   "source": [
    "import configparser\n",
    "import os\n",
    "\n",
    "def parse_val(file_path):\n",
    "    properties = {}\n",
    "    config = configparser.ConfigParser()\n",
    "    config.read(file_path)\n",
    "    for x in config.sections():\n",
    "        for key,value in config.items(x):\n",
    "            properties[key]=value.strip()\n",
    "        return properties\n",
    "\n",
    "properties_file_path = r'C:\\Users\\muhammad.s.safian\\OneDrive - Avanade\\Project\\MAIN_PROJECT\\3_ACCENTURE_PYTHON_DELTA\\delta_program_dev/val.properties'\n"
   ]
  },
  {
   "cell_type": "code",
   "execution_count": 15,
   "id": "b598c78e-ddbf-46f9-818d-ba6ff91bc44c",
   "metadata": {},
   "outputs": [],
   "source": [
    "properties = parse_val(properties_file_path)\n",
    "path1 = properties.get('today_files_path')\n",
    "path2 = properties.get('yesterday_files_path')"
   ]
  },
  {
   "cell_type": "code",
   "execution_count": 21,
   "id": "0aa33ae4-4654-48a7-aeb3-dee3c3e46d72",
   "metadata": {},
   "outputs": [
    {
     "data": {
      "text/plain": [
       "'C:\\\\Users\\\\muhammad.s.safian\\\\OneDrive - Avanade\\\\Project\\\\MAIN_PROJECT\\\\3_ACCENTURE_PYTHON_DELTA\\\\delta_program_dev\\\\files\\\\today'"
      ]
     },
     "execution_count": 21,
     "metadata": {},
     "output_type": "execute_result"
    }
   ],
   "source": [
    "path1"
   ]
  },
  {
   "cell_type": "code",
   "execution_count": 22,
   "id": "6b6f912a-af58-4faa-89e0-25c14994ee99",
   "metadata": {},
   "outputs": [
    {
     "ename": "NameError",
     "evalue": "name 'properties_path' is not defined",
     "output_type": "error",
     "traceback": [
      "\u001b[1;31m---------------------------------------------------------------------------\u001b[0m",
      "\u001b[1;31mNameError\u001b[0m                                 Traceback (most recent call last)",
      "Cell \u001b[1;32mIn[22], line 1\u001b[0m\n\u001b[1;32m----> 1\u001b[0m properties \u001b[38;5;241m=\u001b[39m parse_val(\u001b[43mproperties_path\u001b[49m)\n\u001b[0;32m      2\u001b[0m path1\u001b[38;5;241m=\u001b[39mproperties\u001b[38;5;241m.\u001b[39mget(\u001b[38;5;124m'\u001b[39m\u001b[38;5;124mtoday_files_path\u001b[39m\u001b[38;5;124m'\u001b[39m)\n\u001b[0;32m      3\u001b[0m path2\u001b[38;5;241m=\u001b[39mproperties\u001b[38;5;241m.\u001b[39mget(\u001b[38;5;124m'\u001b[39m\u001b[38;5;124myesterday_files_path\u001b[39m\u001b[38;5;124m'\u001b[39m)\n",
      "\u001b[1;31mNameError\u001b[0m: name 'properties_path' is not defined"
     ]
    }
   ],
   "source": [
    "        properties = parse_val(properties_path)\n",
    "        path1=properties.get('today_files_path')\n",
    "        path2=properties.get('yesterday_files_path')\n",
    "        delta_path=properties.get('delta_files_path')\n",
    "        filename_path1 = os.listdir(path1)[0]\n",
    "        filename_path2 = os.listdir(path1)[0]\n",
    "        today_path = os.path.join(path2,'\\\\',filename_path1)\n",
    "        yesterday_path = os.path.join(path2,'\\\\',filename_path1)"
   ]
  },
  {
   "cell_type": "code",
   "execution_count": 18,
   "id": "c54ced60-a12b-4c36-99dc-15b6f02df74e",
   "metadata": {},
   "outputs": [
    {
     "data": {
      "text/plain": [
       "'20_04_2024.csv'"
      ]
     },
     "execution_count": 18,
     "metadata": {},
     "output_type": "execute_result"
    }
   ],
   "source": [
    "filename_path1[0"
   ]
  },
  {
   "cell_type": "code",
   "execution_count": 34,
   "id": "e2e211c2-39a6-459e-8289-fc26071eca97",
   "metadata": {},
   "outputs": [],
   "source": [
    "properties_path = r'C:\\Users\\muhammad.s.safian\\OneDrive - Avanade\\Project\\MAIN_PROJECT\\3_ACCENTURE_PYTHON_DELTA\\delta_program_dev/val.properties'\n",
    "\n",
    "properties = parse_val(properties_path)\n",
    "path1=properties.get('today_files_path')\n",
    "path2=properties.get('yesterday_files_path')\n",
    "delta_path=properties.get('delta_files_path')\n",
    "filename_path1 = os.listdir(path1)[0]\n",
    "filename_path2 = os.listdir(path1)[0]\n",
    "today_path = os.path.join(path2,'\\\\',filename_path1)\n",
    "yesterday_path = os.path.join(path2,'\\\\',filename_path1)"
   ]
  }
 ],
 "metadata": {
  "kernelspec": {
   "display_name": "Python 3 (ipykernel)",
   "language": "python",
   "name": "python3"
  },
  "language_info": {
   "codemirror_mode": {
    "name": "ipython",
    "version": 3
   },
   "file_extension": ".py",
   "mimetype": "text/x-python",
   "name": "python",
   "nbconvert_exporter": "python",
   "pygments_lexer": "ipython3",
   "version": "3.11.5"
  }
 },
 "nbformat": 4,
 "nbformat_minor": 5
}
